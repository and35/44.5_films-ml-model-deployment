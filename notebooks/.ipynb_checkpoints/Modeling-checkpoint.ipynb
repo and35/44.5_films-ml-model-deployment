{
 "cells": [
  {
   "cell_type": "markdown",
   "id": "43debe34",
   "metadata": {},
   "source": [
    "## Data Preparation"
   ]
  },
  {
   "cell_type": "code",
   "execution_count": 1,
   "id": "a042497d",
   "metadata": {},
   "outputs": [],
   "source": [
    "import pandas as pd"
   ]
  },
  {
   "cell_type": "markdown",
   "id": "4fcd8513",
   "metadata": {},
   "source": [
    "## a) cargamos los datos"
   ]
  },
  {
   "cell_type": "code",
   "execution_count": 2,
   "id": "aeb45838",
   "metadata": {},
   "outputs": [],
   "source": [
    "# indicamos las rutas del dataset\n",
    "movies_data_path = '../dataset/movies.csv'\n",
    "finantial_data_path = '../dataset/finantials.csv'\n",
    "opening_data_path = '../dataset/opening_gross.csv'"
   ]
  },
  {
   "cell_type": "code",
   "execution_count": 40,
   "id": "f1abde45",
   "metadata": {},
   "outputs": [
    {
     "data": {
      "text/plain": [
       "(5043, 8)"
      ]
     },
     "execution_count": 40,
     "metadata": {},
     "output_type": "execute_result"
    }
   ],
   "source": [
    "movie_data.shape"
   ]
  },
  {
   "cell_type": "code",
   "execution_count": 51,
   "id": "31c3b9ad",
   "metadata": {},
   "outputs": [
    {
     "data": {
      "text/html": [
       "<div>\n",
       "<style scoped>\n",
       "    .dataframe tbody tr th:only-of-type {\n",
       "        vertical-align: middle;\n",
       "    }\n",
       "\n",
       "    .dataframe tbody tr th {\n",
       "        vertical-align: top;\n",
       "    }\n",
       "\n",
       "    .dataframe thead th {\n",
       "        text-align: right;\n",
       "    }\n",
       "</style>\n",
       "<table border=\"1\" class=\"dataframe\">\n",
       "  <thead>\n",
       "    <tr style=\"text-align: right;\">\n",
       "      <th></th>\n",
       "      <th>Unnamed: 0</th>\n",
       "      <th>movie_name</th>\n",
       "      <th>domestic_gross</th>\n",
       "      <th>movie_link</th>\n",
       "      <th>production_budget</th>\n",
       "      <th>release_date</th>\n",
       "      <th>worldwide_gross</th>\n",
       "      <th>movie_title</th>\n",
       "    </tr>\n",
       "  </thead>\n",
       "  <tbody>\n",
       "    <tr>\n",
       "      <th>0</th>\n",
       "      <td>0</td>\n",
       "      <td>Avatar</td>\n",
       "      <td>760507625</td>\n",
       "      <td>http://www.the-numbers.com/movie/Avatar#tab=su...</td>\n",
       "      <td>425000000</td>\n",
       "      <td>12/18/2009</td>\n",
       "      <td>2783918982</td>\n",
       "      <td>Avatar</td>\n",
       "    </tr>\n",
       "    <tr>\n",
       "      <th>1</th>\n",
       "      <td>1</td>\n",
       "      <td>Star Wars Ep. VII: The Force Awakens</td>\n",
       "      <td>936662225</td>\n",
       "      <td>http://www.the-numbers.com/movie/Star-Wars-Ep-...</td>\n",
       "      <td>306000000</td>\n",
       "      <td>12/18/2015</td>\n",
       "      <td>2058662225</td>\n",
       "      <td>Star Wars: Episode VII - The Force Awakens    ...</td>\n",
       "    </tr>\n",
       "    <tr>\n",
       "      <th>2</th>\n",
       "      <td>2</td>\n",
       "      <td>Pirates of the Caribbean: At World's End</td>\n",
       "      <td>309420425</td>\n",
       "      <td>http://www.the-numbers.com/movie/Pirates-of-th...</td>\n",
       "      <td>300000000</td>\n",
       "      <td>5/24/2007</td>\n",
       "      <td>963420425</td>\n",
       "      <td>Pirates of the Caribbean: At World's End</td>\n",
       "    </tr>\n",
       "    <tr>\n",
       "      <th>3</th>\n",
       "      <td>3</td>\n",
       "      <td>Spectre</td>\n",
       "      <td>200074175</td>\n",
       "      <td>http://www.the-numbers.com/movie/Spectre#tab=s...</td>\n",
       "      <td>300000000</td>\n",
       "      <td>11/6/2015</td>\n",
       "      <td>879620923</td>\n",
       "      <td>Spectre</td>\n",
       "    </tr>\n",
       "    <tr>\n",
       "      <th>4</th>\n",
       "      <td>4</td>\n",
       "      <td>The Dark Knight Rises</td>\n",
       "      <td>448139099</td>\n",
       "      <td>http://www.the-numbers.com/movie/Dark-Knight-R...</td>\n",
       "      <td>275000000</td>\n",
       "      <td>7/20/2012</td>\n",
       "      <td>1084439099</td>\n",
       "      <td>The Dark Knight Rises</td>\n",
       "    </tr>\n",
       "    <tr>\n",
       "      <th>...</th>\n",
       "      <td>...</td>\n",
       "      <td>...</td>\n",
       "      <td>...</td>\n",
       "      <td>...</td>\n",
       "      <td>...</td>\n",
       "      <td>...</td>\n",
       "      <td>...</td>\n",
       "      <td>...</td>\n",
       "    </tr>\n",
       "    <tr>\n",
       "      <th>4336</th>\n",
       "      <td>5157</td>\n",
       "      <td>The Mongol King</td>\n",
       "      <td>900</td>\n",
       "      <td>http://www.the-numbers.com/movie/Mongol-King-T...</td>\n",
       "      <td>7000</td>\n",
       "      <td>1/1/2004</td>\n",
       "      <td>900</td>\n",
       "      <td>The Mongol King</td>\n",
       "    </tr>\n",
       "    <tr>\n",
       "      <th>4337</th>\n",
       "      <td>5160</td>\n",
       "      <td>Signed Sealed Delivered</td>\n",
       "      <td>0</td>\n",
       "      <td>http://www.the-numbers.com/movie/Signed-Sealed...</td>\n",
       "      <td>5000</td>\n",
       "      <td>9/29/2015</td>\n",
       "      <td>0</td>\n",
       "      <td>Signed Sealed Delivered</td>\n",
       "    </tr>\n",
       "    <tr>\n",
       "      <th>4338</th>\n",
       "      <td>5161</td>\n",
       "      <td>Shanghai Calling</td>\n",
       "      <td>10443</td>\n",
       "      <td>http://www.the-numbers.com/movie/Shanghai-Call...</td>\n",
       "      <td>3967</td>\n",
       "      <td>2/15/2013</td>\n",
       "      <td>10443</td>\n",
       "      <td>Shanghai Calling</td>\n",
       "    </tr>\n",
       "    <tr>\n",
       "      <th>4339</th>\n",
       "      <td>5162</td>\n",
       "      <td>A Plague So Pleasant</td>\n",
       "      <td>0</td>\n",
       "      <td>http://www.the-numbers.com/movie/Plague-So-Ple...</td>\n",
       "      <td>1400</td>\n",
       "      <td>9/29/2015</td>\n",
       "      <td>0</td>\n",
       "      <td>A Plague So Pleasant</td>\n",
       "    </tr>\n",
       "    <tr>\n",
       "      <th>4340</th>\n",
       "      <td>5163</td>\n",
       "      <td>My Date With Drew</td>\n",
       "      <td>181041</td>\n",
       "      <td>http://www.the-numbers.com/movie/My-Date-With-...</td>\n",
       "      <td>1100</td>\n",
       "      <td>8/5/2005</td>\n",
       "      <td>181041</td>\n",
       "      <td>My Date with Drew</td>\n",
       "    </tr>\n",
       "  </tbody>\n",
       "</table>\n",
       "<p>4341 rows × 8 columns</p>\n",
       "</div>"
      ],
      "text/plain": [
       "      Unnamed: 0                                movie_name  domestic_gross  \\\n",
       "0              0                                    Avatar       760507625   \n",
       "1              1      Star Wars Ep. VII: The Force Awakens       936662225   \n",
       "2              2  Pirates of the Caribbean: At World's End       309420425   \n",
       "3              3                                   Spectre       200074175   \n",
       "4              4                     The Dark Knight Rises       448139099   \n",
       "...          ...                                       ...             ...   \n",
       "4336        5157                           The Mongol King             900   \n",
       "4337        5160                   Signed Sealed Delivered               0   \n",
       "4338        5161                          Shanghai Calling           10443   \n",
       "4339        5162                      A Plague So Pleasant               0   \n",
       "4340        5163                         My Date With Drew          181041   \n",
       "\n",
       "                                             movie_link  production_budget  \\\n",
       "0     http://www.the-numbers.com/movie/Avatar#tab=su...          425000000   \n",
       "1     http://www.the-numbers.com/movie/Star-Wars-Ep-...          306000000   \n",
       "2     http://www.the-numbers.com/movie/Pirates-of-th...          300000000   \n",
       "3     http://www.the-numbers.com/movie/Spectre#tab=s...          300000000   \n",
       "4     http://www.the-numbers.com/movie/Dark-Knight-R...          275000000   \n",
       "...                                                 ...                ...   \n",
       "4336  http://www.the-numbers.com/movie/Mongol-King-T...               7000   \n",
       "4337  http://www.the-numbers.com/movie/Signed-Sealed...               5000   \n",
       "4338  http://www.the-numbers.com/movie/Shanghai-Call...               3967   \n",
       "4339  http://www.the-numbers.com/movie/Plague-So-Ple...               1400   \n",
       "4340  http://www.the-numbers.com/movie/My-Date-With-...               1100   \n",
       "\n",
       "     release_date  worldwide_gross  \\\n",
       "0      12/18/2009       2783918982   \n",
       "1      12/18/2015       2058662225   \n",
       "2       5/24/2007        963420425   \n",
       "3       11/6/2015        879620923   \n",
       "4       7/20/2012       1084439099   \n",
       "...           ...              ...   \n",
       "4336     1/1/2004              900   \n",
       "4337    9/29/2015                0   \n",
       "4338    2/15/2013            10443   \n",
       "4339    9/29/2015                0   \n",
       "4340     8/5/2005           181041   \n",
       "\n",
       "                                            movie_title  \n",
       "0                                               Avatar   \n",
       "1     Star Wars: Episode VII - The Force Awakens    ...  \n",
       "2             Pirates of the Caribbean: At World's End   \n",
       "3                                              Spectre   \n",
       "4                                The Dark Knight Rises   \n",
       "...                                                 ...  \n",
       "4336                                   The Mongol King   \n",
       "4337                           Signed Sealed Delivered   \n",
       "4338                                  Shanghai Calling   \n",
       "4339                              A Plague So Pleasant   \n",
       "4340                                 My Date with Drew   \n",
       "\n",
       "[4341 rows x 8 columns]"
      ]
     },
     "execution_count": 51,
     "metadata": {},
     "output_type": "execute_result"
    }
   ],
   "source": [
    "# cargamos los datasets en formato de dataframe \n",
    "fin_data = pd.read_csv(finantial_data_path)\n",
    "movie_data = pd.read_csv(movies_data_path)\n",
    "opening_data = pd.read_csv(opening_data_path)\n",
    "fin_data"
   ]
  },
  {
   "cell_type": "markdown",
   "id": "c2ef0c03",
   "metadata": {},
   "source": [
    "## b) creamos un solo dataset con todas las columnas y filas utiles \n",
    "en nuestro caso tenemos las columnas repartidas en 3 DF, solo couparaemos las columnas numericas asi que elimnamos las categoricas, el numero de registros varia asi que haremos merge para que solo se concerven los registros que existen en todas las tablas. "
   ]
  },
  {
   "cell_type": "code",
   "execution_count": 32,
   "id": "0811c8b6",
   "metadata": {},
   "outputs": [],
   "source": [
    "# extraemos las columnas que vamos a utilizar (las numericas y la del titulo[sera el key del merge]) del DF movie\n",
    "\"\"\"numeric_columns_mask = (movie_data.dtypes == float) | (movie_data.dtypes == int)\n",
    "numeric_columns = [column for column in numeric_columns_mask.index if numeric_columns_mask[column]]\n",
    "movie_data = movie_data[numeric_columns+['movie_title']]\"\"\"\n",
    "movie_data = pd.concat([movie_data.select_dtypes(include=['float64', \"int64\"]) ,movie_data[\"movie_title\"]], \n",
    "       axis=1) # este es mi codigo que cree y es mas facil  axis=1 = unir columnas axis=0 = unir filas"
   ]
  },
  {
   "cell_type": "code",
   "execution_count": 46,
   "id": "697ea2e2",
   "metadata": {},
   "outputs": [
    {
     "data": {
      "text/plain": [
       "(2304, 12)"
      ]
     },
     "execution_count": 46,
     "metadata": {},
     "output_type": "execute_result"
    }
   ],
   "source": [
    "fin_data = fin_data[['movie_title','production_budget','worldwide_gross']] \n",
    "# hacemos un left para que se concerben los registros que existen solo en las 3 tablas\n",
    "fin_movie_data = pd.merge(fin_data, movie_data, on= 'movie_title', how='left') \n",
    "full_movie_data = pd.merge( opening_data,fin_movie_data, on = 'movie_title', how='left')\n",
    "full_movie_data.shape"
   ]
  },
  {
   "cell_type": "code",
   "execution_count": 47,
   "id": "c372e153",
   "metadata": {},
   "outputs": [
    {
     "data": {
      "text/plain": [
       "(2304, 12)"
      ]
     },
     "execution_count": 47,
     "metadata": {},
     "output_type": "execute_result"
    }
   ],
   "source": [
    "# ignoraremos las peliculas que tienen 0 y null en dinero generado \n",
    "full_movie_data[(full_movie_data.worldwide_gross != 0) & (full_movie_data.worldwide_gross.notnull())].shape"
   ]
  },
  {
   "cell_type": "code",
   "execution_count": 48,
   "id": "dbd03bcb",
   "metadata": {
    "scrolled": true
   },
   "outputs": [],
   "source": [
    "# quitamos las columnas que no son utiles para el entrenamiento\n",
    "full_movie_data = full_movie_data.drop(['movie_title','gross'],axis=1)"
   ]
  },
  {
   "cell_type": "code",
   "execution_count": 49,
   "id": "68311214",
   "metadata": {
    "scrolled": true
   },
   "outputs": [
    {
     "data": {
      "text/plain": [
       "Index(['opening_gross', 'screens', 'production_budget', 'worldwide_gross',\n",
       "       'title_year', 'aspect_ratio', 'duration', 'cast_total_facebook_likes',\n",
       "       'budget', 'imdb_score'],\n",
       "      dtype='object')"
      ]
     },
     "execution_count": 49,
     "metadata": {},
     "output_type": "execute_result"
    }
   ],
   "source": [
    "full_movie_data.columns # vemos el DF final"
   ]
  },
  {
   "cell_type": "markdown",
   "id": "49eda321",
   "metadata": {},
   "source": [
    "en este punto ya tenemos un solo dataframe con toda la data que sera util para entrenar el modelo "
   ]
  },
  {
   "cell_type": "markdown",
   "id": "3d855446",
   "metadata": {},
   "source": [
    "## Modeling"
   ]
  },
  {
   "cell_type": "code",
   "execution_count": 50,
   "id": "f9699a87",
   "metadata": {},
   "outputs": [],
   "source": [
    "from sklearn.model_selection import train_test_split\n",
    "from sklearn.pipeline import Pipeline\n",
    "from sklearn.impute import SimpleImputer\n",
    "from sklearn.ensemble import GradientBoostingRegressor\n",
    "from sklearn.model_selection import cross_validate\n",
    "import numpy as np"
   ]
  },
  {
   "cell_type": "code",
   "execution_count": 12,
   "id": "d6827e1b",
   "metadata": {},
   "outputs": [],
   "source": [
    "# definimos nuestro input var y output var\n",
    "X = full_movie_data.drop(['worldwide_gross'], axis = 1)\n",
    "y = full_movie_data['worldwide_gross']"
   ]
  },
  {
   "cell_type": "code",
   "execution_count": 13,
   "id": "f943a690",
   "metadata": {},
   "outputs": [],
   "source": [
    "# contruimos un pipeline simple \n",
    "pipeline = Pipeline([ # solo especifiamos el alias del modelo y el modelo \n",
    "    ('imputer', SimpleImputer(missing_values=np.nan, strategy='mean')), # completa los valores Null\n",
    "    ('core_model', GradientBoostingRegressor()) #modelo de entrenamiento\n",
    "])"
   ]
  },
  {
   "cell_type": "code",
   "execution_count": 14,
   "id": "cca7ef92",
   "metadata": {},
   "outputs": [
    {
     "data": {
      "text/plain": [
       "{'fit_time': array([0.33126116, 0.32594347, 0.32048607, 0.30208063, 0.32461882,\n",
       "        0.32264709, 0.31112003, 0.31348014, 0.30392337, 0.30737305]),\n",
       " 'score_time': array([0.00176954, 0.00277519, 0.00225043, 0.00226712, 0.00200582,\n",
       "        0.00266671, 0.00191855, 0.00207758, 0.00160885, 0.00166345]),\n",
       " 'test_score': array([0.67386087, 0.84945318, 0.64398525, 0.77411956, 0.78347799,\n",
       "        0.85577395, 0.76009985, 0.86835663, 0.65362997, 0.65825827]),\n",
       " 'train_score': array([0.91673951, 0.91581777, 0.9228721 , 0.91654412, 0.92172829,\n",
       "        0.91476722, 0.92151444, 0.91734995, 0.92320705, 0.91766026])}"
      ]
     },
     "execution_count": 14,
     "metadata": {},
     "output_type": "execute_result"
    }
   ],
   "source": [
    "results = cross_validate(pipeline ,X,y,return_train_score=True,cv=10) # cv = numero de bloques \n",
    "results # ahora tenemos los datos de puntuacion y tiempo para el fit y el test de las 10 iteraciones "
   ]
  },
  {
   "cell_type": "code",
   "execution_count": 15,
   "id": "fbde089f",
   "metadata": {},
   "outputs": [
    {
     "name": "stdout",
     "output_type": "stream",
     "text": [
      "Train Score: 0.9188200721676859\n",
      "Test Score: 0.7521015504747262\n"
     ]
    }
   ],
   "source": [
    "# obtenemos el promedio de las 10 iteraciones del crossvalidation \n",
    "train_score = np.mean(results['train_score'])\n",
    "test_score = np.mean(results['test_score'])\n",
    "assert train_score > 0.7 # asi se usa assert:\n",
    "assert test_score > 0.65 #  afirmo que train score es > 0.7 si no deten la ejecucion por que hay un error atras\n",
    "print(f'Train Score: {train_score}')\n",
    "print(f'Test Score: {test_score}')"
   ]
  },
  {
   "cell_type": "markdown",
   "id": "2d780543",
   "metadata": {},
   "source": [
    "## Hyperparameter tunning"
   ]
  },
  {
   "cell_type": "code",
   "execution_count": 17,
   "id": "5827e6f5",
   "metadata": {},
   "outputs": [],
   "source": [
    "from sklearn.model_selection import GridSearchCV"
   ]
  },
  {
   "cell_type": "code",
   "execution_count": 18,
   "id": "da68e0fc",
   "metadata": {},
   "outputs": [],
   "source": [
    "# de todos los parametros del modelo GBR definimos uno que sera ajustado y en que rango se haran pruebas\n",
    "param_tunning = {'core_model__n_estimators': range(20,501,20)} "
   ]
  },
  {
   "cell_type": "code",
   "execution_count": 19,
   "id": "193f0cd6",
   "metadata": {},
   "outputs": [],
   "source": [
    "# volvemos a instanciar el pipeline de atras\n",
    "estimator = Pipeline([\n",
    "    ('imputer', SimpleImputer(missing_values=np.nan, strategy='mean')),\n",
    "    ('core_model', GradientBoostingRegressor())\n",
    "])"
   ]
  },
  {
   "cell_type": "code",
   "execution_count": 20,
   "id": "b2e5d303",
   "metadata": {},
   "outputs": [],
   "source": [
    "grid_search= GridSearchCV(estimator, # el modelo o pipeline\n",
    "                       param_grid = param_tunning, # el paramatro a ajustar\n",
    "                       scoring='r2', # la metrica de validacion \n",
    "                       cv=5)         # numero de bloques de particion en el crossvalidation "
   ]
  },
  {
   "cell_type": "code",
   "execution_count": 21,
   "id": "ba418e6f",
   "metadata": {},
   "outputs": [],
   "source": [
    "# hacemos un hold out \n",
    "X_train, X_test, y_train, y_test = train_test_split(X,y, test_size = 0.35,random_state= 42)"
   ]
  },
  {
   "cell_type": "code",
   "execution_count": 22,
   "id": "95368333",
   "metadata": {},
   "outputs": [
    {
     "data": {
      "text/plain": [
       "GridSearchCV(cv=5,\n",
       "             estimator=Pipeline(steps=[('imputer', SimpleImputer()),\n",
       "                                       ('core_model',\n",
       "                                        GradientBoostingRegressor())]),\n",
       "             param_grid={'core_model__n_estimators': range(20, 501, 20)},\n",
       "             scoring='r2')"
      ]
     },
     "execution_count": 22,
     "metadata": {},
     "output_type": "execute_result"
    }
   ],
   "source": [
    "# entrenamos el estimador\n",
    "grid_search.fit(X_train, y_train)"
   ]
  },
  {
   "cell_type": "code",
   "execution_count": 23,
   "id": "f03a1dac",
   "metadata": {},
   "outputs": [],
   "source": [
    "# hacemos la tecnica de cross validation sobre el  mejor modelo (estimator) encontrado en grid_search \n",
    "final_result = cross_validate(grid_search.best_estimator_,X_train,y_train,return_train_score=True,cv=7)"
   ]
  },
  {
   "cell_type": "code",
   "execution_count": 24,
   "id": "461f63dd",
   "metadata": {},
   "outputs": [
    {
     "name": "stdout",
     "output_type": "stream",
     "text": [
      "Train Score: 0.9667702920281013\n",
      "Test Score: 0.7612924726750518\n"
     ]
    }
   ],
   "source": [
    "# volvemos a hacer el promedio de las metricas del crossvalidation para el mejor modelo \n",
    "train_score = np.mean(final_result['train_score'])\n",
    "test_score = np.mean(final_result['test_score'])\n",
    "assert train_score > 0.7\n",
    "assert test_score > 0.65\n",
    "print(f'Train Score: {train_score}')\n",
    "print(f'Test Score: {test_score}')\n",
    "# la metrica de evaluacion es r^2"
   ]
  },
  {
   "cell_type": "code",
   "execution_count": 25,
   "id": "8c669f7d",
   "metadata": {
    "scrolled": false
   },
   "outputs": [
    {
     "data": {
      "text/plain": [
       "{'memory': None,\n",
       " 'steps': [('imputer', SimpleImputer()),\n",
       "  ('core_model', GradientBoostingRegressor(n_estimators=220))],\n",
       " 'verbose': False,\n",
       " 'imputer': SimpleImputer(),\n",
       " 'core_model': GradientBoostingRegressor(n_estimators=220),\n",
       " 'imputer__add_indicator': False,\n",
       " 'imputer__copy': True,\n",
       " 'imputer__fill_value': None,\n",
       " 'imputer__missing_values': nan,\n",
       " 'imputer__strategy': 'mean',\n",
       " 'imputer__verbose': 0,\n",
       " 'core_model__alpha': 0.9,\n",
       " 'core_model__ccp_alpha': 0.0,\n",
       " 'core_model__criterion': 'friedman_mse',\n",
       " 'core_model__init': None,\n",
       " 'core_model__learning_rate': 0.1,\n",
       " 'core_model__loss': 'squared_error',\n",
       " 'core_model__max_depth': 3,\n",
       " 'core_model__max_features': None,\n",
       " 'core_model__max_leaf_nodes': None,\n",
       " 'core_model__min_impurity_decrease': 0.0,\n",
       " 'core_model__min_samples_leaf': 1,\n",
       " 'core_model__min_samples_split': 2,\n",
       " 'core_model__min_weight_fraction_leaf': 0.0,\n",
       " 'core_model__n_estimators': 220,\n",
       " 'core_model__n_iter_no_change': None,\n",
       " 'core_model__random_state': None,\n",
       " 'core_model__subsample': 1.0,\n",
       " 'core_model__tol': 0.0001,\n",
       " 'core_model__validation_fraction': 0.1,\n",
       " 'core_model__verbose': 0,\n",
       " 'core_model__warm_start': False}"
      ]
     },
     "execution_count": 25,
     "metadata": {},
     "output_type": "execute_result"
    }
   ],
   "source": [
    "# obtenmso los parametros para el mejor modelo (estimator)\n",
    "grid_search.best_estimator_.get_params()"
   ]
  },
  {
   "cell_type": "code",
   "execution_count": 26,
   "id": "6d479277",
   "metadata": {},
   "outputs": [],
   "source": [
    "# creamos el pipeline final con el modelo y sus parametros mas optimos\n",
    "estimator = Pipeline([\n",
    "    ('imputer', SimpleImputer(missing_values=np.nan, strategy='mean')),\n",
    "    ('core_model', GradientBoostingRegressor(n_estimators=220,\n",
    "                                             alpha=0.9,\n",
    "                                             ccp_alpha=0.0,\n",
    "                                             criterion='friedman_mse',\n",
    "                                             init=None,\n",
    "                                             learning_rate=0.1,\n",
    "                                             loss='squared_error',\n",
    "                                             max_depth=3,\n",
    "                                             max_features=None,\n",
    "                                             max_leaf_nodes=None,\n",
    "                                             min_impurity_decrease=0.0,\n",
    "                                             min_samples_leaf=1,\n",
    "                                             min_samples_split=2,\n",
    "                                             min_weight_fraction_leaf=0.0,\n",
    "                                             n_iter_no_change=None,\n",
    "                                             random_state=None,\n",
    "                                             subsample=1.0,\n",
    "                                             tol=0.0001,\n",
    "                                             validation_fraction=0.1,\n",
    "                                             verbose=0,\n",
    "                                             warm_start=False))\n",
    "])"
   ]
  },
  {
   "cell_type": "code",
   "execution_count": 27,
   "id": "04e3c693",
   "metadata": {},
   "outputs": [
    {
     "data": {
      "text/plain": [
       "Pipeline(steps=[('imputer', SimpleImputer()),\n",
       "                ('core_model', GradientBoostingRegressor(n_estimators=220))])"
      ]
     },
     "execution_count": 27,
     "metadata": {},
     "output_type": "execute_result"
    }
   ],
   "source": [
    "# entrenamos el modelo final\n",
    "estimator.fit(X_train,y_train)"
   ]
  },
  {
   "cell_type": "code",
   "execution_count": 28,
   "id": "45e1d10d",
   "metadata": {},
   "outputs": [
    {
     "data": {
      "text/plain": [
       "0.7297050595008379"
      ]
     },
     "execution_count": 28,
     "metadata": {},
     "output_type": "execute_result"
    }
   ],
   "source": [
    "estimator.score(X_test, y_test)"
   ]
  },
  {
   "cell_type": "markdown",
   "id": "a507f828",
   "metadata": {},
   "source": [
    "## Saving model"
   ]
  },
  {
   "cell_type": "code",
   "execution_count": 29,
   "id": "de4b0573",
   "metadata": {},
   "outputs": [],
   "source": [
    "from joblib import dump"
   ]
  },
  {
   "cell_type": "code",
   "execution_count": 30,
   "id": "88ca4771",
   "metadata": {},
   "outputs": [
    {
     "data": {
      "text/plain": [
       "['../model/model.pkl']"
      ]
     },
     "execution_count": 30,
     "metadata": {},
     "output_type": "execute_result"
    }
   ],
   "source": [
    "# guardamos el modelo final ya entrenado en formato .pkl\n",
    "dump(estimator, '../model/model.pkl')"
   ]
  },
  {
   "cell_type": "code",
   "execution_count": 31,
   "id": "c1a1dbec",
   "metadata": {},
   "outputs": [
    {
     "data": {
      "text/plain": [
       "Index(['opening_gross', 'screens', 'production_budget', 'title_year',\n",
       "       'aspect_ratio', 'duration', 'cast_total_facebook_likes', 'budget',\n",
       "       'imdb_score'],\n",
       "      dtype='object')"
      ]
     },
     "execution_count": 31,
     "metadata": {},
     "output_type": "execute_result"
    }
   ],
   "source": [
    "X_train.columns"
   ]
  }
 ],
 "metadata": {
  "kernelspec": {
   "display_name": "Python 3 (ipykernel)",
   "language": "python",
   "name": "python3"
  },
  "language_info": {
   "codemirror_mode": {
    "name": "ipython",
    "version": 3
   },
   "file_extension": ".py",
   "mimetype": "text/x-python",
   "name": "python",
   "nbconvert_exporter": "python",
   "pygments_lexer": "ipython3",
   "version": "3.9.12"
  }
 },
 "nbformat": 4,
 "nbformat_minor": 5
}
